{
 "cells": [
  {
   "cell_type": "code",
   "execution_count": null,
   "metadata": {},
   "outputs": [],
   "source": [
    "# 安裝套件\n",
    "!pip3 install --upgrade pip\n",
    "!pip3 install -r requirements.txt"
   ]
  },
  {
   "cell_type": "code",
   "execution_count": null,
   "metadata": {},
   "outputs": [],
   "source": [
    "# 載入套件\n",
    "import pandas as pd\n",
    "from sklearn.cluster import KMeans\n",
    "import matplotlib.pyplot as plt\n",
    "import seaborn as sns"
   ]
  },
  {
   "cell_type": "code",
   "execution_count": null,
   "metadata": {},
   "outputs": [
    {
     "ename": "",
     "evalue": "",
     "output_type": "error",
     "traceback": [
      "\u001b[1;31m執行具有 '.venv' 的儲存格需要 ipykernel 套件。\n",
      "\u001b[1;31mRun the following command to install 'ipykernel' into the Python environment. \n",
      "\u001b[1;31mCommand: 'c:/Users/kiwi0/OneDrive/GitHub/NTHU-GE-ITE/.venv/Scripts/python.exe -m pip install ipykernel -U --force-reinstall'"
     ]
    }
   ],
   "source": [
    "# 讀取資料\n",
    "df = pd.read_csv('data/traffic_accidents.csv')\n",
    "print(df.head())"
   ]
  },
  {
   "cell_type": "code",
   "execution_count": null,
   "metadata": {},
   "outputs": [],
   "source": [
    "# 選取經緯度欄位\n",
    "X = df[[\"Longitude\", \"Latitude\"]]"
   ]
  },
  {
   "cell_type": "code",
   "execution_count": null,
   "metadata": {},
   "outputs": [],
   "source": [
    "# 使用 KMeans 進行集群分析\n",
    "kmeans = KMeans(n_clusters=5, n_init=10, random_state=0)\n",
    "kmeans.fit(X)"
   ]
  },
  {
   "cell_type": "code",
   "execution_count": null,
   "metadata": {},
   "outputs": [],
   "source": [
    "# 將集群標籤添加到原始 DataFrame\n",
    "df[\"Cluster\"] = kmeans.labels_"
   ]
  },
  {
   "cell_type": "code",
   "execution_count": null,
   "metadata": {},
   "outputs": [],
   "source": [
    "# 使用 matplotlib 繪製散點圖\n",
    "plt.figure(figsize=(10, 10))\n",
    "plt.scatter(df[\"Longitude\"], df[\"Latitude\"], c=df[\"Cluster\"], cmap=\"viridis\")\n",
    "plt.title(\"Scatter plot of Clusters\")\n",
    "plt.show()"
   ]
  },
  {
   "cell_type": "code",
   "execution_count": null,
   "metadata": {},
   "outputs": [],
   "source": [
    "# 使用 seaborn 繪製熱力圖\n",
    "plt.figure(figsize=(10, 10))\n",
    "sns.heatmap(\n",
    "    df.pivot_table(\n",
    "        index=\"Latitude\", columns=\"Longitude\", values=\"Cluster\", aggfunc=\"mean\"\n",
    "    ),\n",
    "    cmap=\"YlGnBu\",\n",
    ")\n",
    "plt.title(\"Heatmap of Clusters\")\n",
    "plt.show()"
   ]
  }
 ],
 "metadata": {
  "kernelspec": {
   "display_name": ".venv",
   "language": "python",
   "name": "python3"
  },
  "language_info": {
   "name": "python",
   "version": "3.11.5"
  }
 },
 "nbformat": 4,
 "nbformat_minor": 2
}
